{
  "nbformat": 4,
  "nbformat_minor": 0,
  "metadata": {
    "colab": {
      "provenance": []
    },
    "kernelspec": {
      "name": "python3",
      "display_name": "Python 3"
    },
    "language_info": {
      "name": "python"
    }
  },
  "cells": [
    {
      "cell_type": "markdown",
      "source": [
        "Given an integer array nums, return all the triplets [nums[i], nums[j], nums[k]] such that i != j, i != k, and j != k, and nums[i] + nums[j] + nums[k] == 0.\n",
        "\n",
        "Notice that the solution set must not contain duplicate triplets.\n",
        "\n",
        "\n",
        "\n",
        "Example 1:\n",
        "\n",
        "Input: nums = [-1,0,1,2,-1,-4]\n",
        "Output: [[-1,-1,2],[-1,0,1]]\n",
        "Explanation:\n",
        "nums[0] + nums[1] + nums[2] = (-1) + 0 + 1 = 0.\n",
        "nums[1] + nums[2] + nums[4] = 0 + 1 + (-1) = 0.\n",
        "nums[0] + nums[3] + nums[4] = (-1) + 2 + (-1) = 0.\n",
        "The distinct triplets are [-1,0,1] and [-1,-1,2].\n",
        "Notice that the order of the output and the order of the triplets does not matter.\n"
      ],
      "metadata": {
        "id": "_LNrefRJMHU6"
      }
    },
    {
      "cell_type": "code",
      "execution_count": 24,
      "metadata": {
        "id": "NfM_r3sICBLj"
      },
      "outputs": [],
      "source": [
        "class Solution(object):\n",
        "    def threeSum(self, nums):\n",
        "        ans=set()\n",
        "        nums.sort()\n",
        "        n=len(nums)\n",
        "        for i in range(n-2):\n",
        "            j = i+1\n",
        "            k = n-1\n",
        "            while j < k:\n",
        "                temp = nums[i]+nums[j]+nums[k]\n",
        "                if temp==0:\n",
        "                    ans.add((nums[i],nums[j],nums[k]))\n",
        "                    j+=1\n",
        "                    k-=1\n",
        "                elif temp > 0:\n",
        "                    k-=1\n",
        "                else:\n",
        "                    j+=1\n",
        "        return ans\n",
        "\n",
        "Answer = threeSum([-1,1,3,-2,5,6,0,8,-4])\n",
        "Answer"
      ]
    }
  ]
}