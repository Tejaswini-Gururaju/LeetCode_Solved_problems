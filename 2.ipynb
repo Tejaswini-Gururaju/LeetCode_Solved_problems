{
  "nbformat": 4,
  "nbformat_minor": 0,
  "metadata": {
    "colab": {
      "provenance": []
    },
    "kernelspec": {
      "name": "python3",
      "display_name": "Python 3"
    },
    "language_info": {
      "name": "python"
    }
  },
  "cells": [
    {
      "cell_type": "markdown",
      "source": [
        "In MATLAB, there is a handy function called reshape which can reshape an m x n matrix into a new one with a different size r x c keeping its original data.\n",
        "\n",
        "You are given an m x n matrix mat and two integers r and c representing the number of rows and the number of columns of the wanted reshaped matrix.\n",
        "\n",
        "The reshaped matrix should be filled with all the elements of the original matrix in the same row-traversing order as they were.\n",
        "\n",
        "If the reshape operation with given parameters is possible and legal, output the new reshaped matrix; Otherwise, output the original matrix."
      ],
      "metadata": {
        "id": "s6L1MeR6JaFd"
      }
    },
    {
      "cell_type": "code",
      "source": [
        "class Solution:\n",
        "    def matrixReshape(self, mat, r, c) :\n",
        "        flatten = []\n",
        "        new_mat = []\n",
        "        for row in mat:\n",
        "            for num in row:\n",
        "                flatten.append(num)\n",
        "\n",
        "        if r * c != len(flatten):   # when given parameters is NOT possible and legal\n",
        "            return mat\n",
        "        else:\n",
        "            for row_index in range(r):\n",
        "                new_mat.append(flatten[row_index * c : row_index * c + c])\n",
        "            return new_mat"
      ],
      "metadata": {
        "id": "kZrfGgccJc-e"
      },
      "execution_count": 1,
      "outputs": []
    },
    {
      "cell_type": "markdown",
      "source": [
        "Testing the solution :"
      ],
      "metadata": {
        "id": "sbBZfSI6JlpF"
      }
    },
    {
      "cell_type": "code",
      "source": [
        "test = Solution()\n",
        "test.matrixReshape([[1,2,3],[4,5,6]],3,2)\n"
      ],
      "metadata": {
        "colab": {
          "base_uri": "https://localhost:8080/"
        },
        "id": "mkcnBRhAJkJT",
        "outputId": "017a3911-75e9-4bc4-bce1-aeca26a34398"
      },
      "execution_count": 5,
      "outputs": [
        {
          "output_type": "execute_result",
          "data": {
            "text/plain": [
              "[[1, 2], [3, 4], [5, 6]]"
            ]
          },
          "metadata": {},
          "execution_count": 5
        }
      ]
    }
  ]
}