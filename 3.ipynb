{
  "nbformat": 4,
  "nbformat_minor": 0,
  "metadata": {
    "colab": {
      "provenance": []
    },
    "kernelspec": {
      "name": "python3",
      "display_name": "Python 3"
    },
    "language_info": {
      "name": "python"
    }
  },
  "cells": [
    {
      "cell_type": "markdown",
      "source": [
        "Given a string s. Return all the words vertically in the same order in which they appear in s.\n",
        "Words are returned as a list of strings, complete with spaces when is necessary. (Trailing spaces are not allowed).\n",
        "Each word would be put on only one column and that in one column there will be only one word.\n",
        "\n",
        "\n",
        "\n",
        "Example 1:\n",
        "\n",
        "Input: s = \"HOW ARE YOU\"\n",
        "Output: [\"HAY\",\"ORO\",\"WEU\"]\n",
        "Explanation: Each word is printed vertically.\n",
        " \"HAY\"\n",
        " \"ORO\"\n",
        " \"WEU\""
      ],
      "metadata": {
        "id": "pTJql3XjduWy"
      }
    },
    {
      "cell_type": "code",
      "source": [
        "class Solution(object):\n",
        "    def printVertically(self, s):\n",
        "        \"\"\"\n",
        "        :type s: str\n",
        "        :rtype: List[str]\n",
        "        \"\"\"\n",
        "        s=s.split()\n",
        "        print(s)\n",
        "        ln=([len(i) for i in s])\n",
        "        print(ln)\n",
        "        lst=[]\n",
        "        for i in s:\n",
        "            if i!=ln:\n",
        "                lst.append(i+\" \"*(ln-len(i)))\n",
        "                # print(i)\n",
        "            else:\n",
        "                lst.append(i)\n",
        "        final=[]\n",
        "        for i in zip(*lst):\n",
        "            a=\"\".join(i)\n",
        "            final.append(a.rstrip(' '))\n",
        "        return final"
      ],
      "metadata": {
        "id": "wuUok0zxdzgp"
      },
      "execution_count": 36,
      "outputs": []
    },
    {
      "cell_type": "markdown",
      "source": [
        "Validating the solution below"
      ],
      "metadata": {
        "id": "np9JKaWZeuNU"
      }
    },
    {
      "cell_type": "code",
      "source": [
        "sol=Solution()\n",
        "output = sol.printVertically(\"Hello Im a Data scientist\")\n",
        "output"
      ],
      "metadata": {
        "colab": {
          "base_uri": "https://localhost:8080/",
          "height": 332
        },
        "id": "WKOEu1jLeFfo",
        "outputId": "96c5e76f-d4c6-4c8c-c04b-a205ce8ead40"
      },
      "execution_count": 37,
      "outputs": [
        {
          "output_type": "stream",
          "name": "stdout",
          "text": [
            "['Hello', 'Im', 'a', 'Data', 'scientist']\n",
            "[5, 2, 1, 4, 9]\n"
          ]
        },
        {
          "output_type": "error",
          "ename": "TypeError",
          "evalue": "unsupported operand type(s) for -: 'list' and 'int'",
          "traceback": [
            "\u001b[0;31m---------------------------------------------------------------------------\u001b[0m",
            "\u001b[0;31mTypeError\u001b[0m                                 Traceback (most recent call last)",
            "\u001b[0;32m<ipython-input-37-cce454797ea0>\u001b[0m in \u001b[0;36m<cell line: 2>\u001b[0;34m()\u001b[0m\n\u001b[1;32m      1\u001b[0m \u001b[0msol\u001b[0m\u001b[0;34m=\u001b[0m\u001b[0mSolution\u001b[0m\u001b[0;34m(\u001b[0m\u001b[0;34m)\u001b[0m\u001b[0;34m\u001b[0m\u001b[0;34m\u001b[0m\u001b[0m\n\u001b[0;32m----> 2\u001b[0;31m \u001b[0moutput\u001b[0m \u001b[0;34m=\u001b[0m \u001b[0msol\u001b[0m\u001b[0;34m.\u001b[0m\u001b[0mprintVertically\u001b[0m\u001b[0;34m(\u001b[0m\u001b[0;34m\"Hello Im a Data scientist\"\u001b[0m\u001b[0;34m)\u001b[0m\u001b[0;34m\u001b[0m\u001b[0;34m\u001b[0m\u001b[0m\n\u001b[0m\u001b[1;32m      3\u001b[0m \u001b[0moutput\u001b[0m\u001b[0;34m\u001b[0m\u001b[0;34m\u001b[0m\u001b[0m\n",
            "\u001b[0;32m<ipython-input-36-9e7666182834>\u001b[0m in \u001b[0;36mprintVertically\u001b[0;34m(self, s)\u001b[0m\n\u001b[1;32m     12\u001b[0m         \u001b[0;32mfor\u001b[0m \u001b[0mi\u001b[0m \u001b[0;32min\u001b[0m \u001b[0ms\u001b[0m\u001b[0;34m:\u001b[0m\u001b[0;34m\u001b[0m\u001b[0;34m\u001b[0m\u001b[0m\n\u001b[1;32m     13\u001b[0m             \u001b[0;32mif\u001b[0m \u001b[0mi\u001b[0m\u001b[0;34m!=\u001b[0m\u001b[0mln\u001b[0m\u001b[0;34m:\u001b[0m\u001b[0;34m\u001b[0m\u001b[0;34m\u001b[0m\u001b[0m\n\u001b[0;32m---> 14\u001b[0;31m                 \u001b[0mlst\u001b[0m\u001b[0;34m.\u001b[0m\u001b[0mappend\u001b[0m\u001b[0;34m(\u001b[0m\u001b[0mi\u001b[0m\u001b[0;34m+\u001b[0m\u001b[0;34m\" \"\u001b[0m\u001b[0;34m*\u001b[0m\u001b[0;34m(\u001b[0m\u001b[0mln\u001b[0m\u001b[0;34m-\u001b[0m\u001b[0mlen\u001b[0m\u001b[0;34m(\u001b[0m\u001b[0mi\u001b[0m\u001b[0;34m)\u001b[0m\u001b[0;34m)\u001b[0m\u001b[0;34m)\u001b[0m\u001b[0;34m\u001b[0m\u001b[0;34m\u001b[0m\u001b[0m\n\u001b[0m\u001b[1;32m     15\u001b[0m                 \u001b[0;31m# print(i)\u001b[0m\u001b[0;34m\u001b[0m\u001b[0;34m\u001b[0m\u001b[0m\n\u001b[1;32m     16\u001b[0m             \u001b[0;32melse\u001b[0m\u001b[0;34m:\u001b[0m\u001b[0;34m\u001b[0m\u001b[0;34m\u001b[0m\u001b[0m\n",
            "\u001b[0;31mTypeError\u001b[0m: unsupported operand type(s) for -: 'list' and 'int'"
          ]
        }
      ]
    }
  ]
}