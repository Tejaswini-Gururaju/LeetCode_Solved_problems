{
  "nbformat": 4,
  "nbformat_minor": 0,
  "metadata": {
    "colab": {
      "provenance": []
    },
    "kernelspec": {
      "name": "python3",
      "display_name": "Python 3"
    },
    "language_info": {
      "name": "python"
    }
  },
  "cells": [
    {
      "cell_type": "markdown",
      "source": [
        "Sort colors"
      ],
      "metadata": {
        "id": "jH7Qb9wAMAFN"
      }
    },
    {
      "cell_type": "code",
      "execution_count": 39,
      "metadata": {
        "id": "S3cV4KUb32_C"
      },
      "outputs": [],
      "source": [
        "from typing import List\n",
        "class Solution(object):\n",
        "    def sortColors(self, nums:list())-> list():\n",
        "        \"\"\"\n",
        "        :type nums: List[int]\n",
        "        :rtype: None Do not return anything, modify nums in-place instead.\n",
        "        \"\"\"\n",
        "        R = []\n",
        "        W = []\n",
        "        B = []\n",
        "        I = []\n",
        "        for i in nums:\n",
        "            if i == 0:\n",
        "                R.append(i)\n",
        "            elif i == 1:\n",
        "                W.append(i)\n",
        "            elif i==2:\n",
        "                B.append(i)\n",
        "            else:\n",
        "                I.append(i)\n",
        "        Final = R + W + B\n",
        "        print(f\"The numbers {I} doesn't belong to any group\")\n",
        "        print(\"where 0 represents Red, 1 as white and 2 as blue\")\n",
        "        return Final\n",
        "\n",
        "\n",
        ""
      ]
    },
    {
      "cell_type": "code",
      "source": [
        "obj = Solution()\n",
        "output = obj.sortColors([1,2,0,2,1,0,4,2,1,5])\n",
        "output"
      ],
      "metadata": {
        "colab": {
          "base_uri": "https://localhost:8080/"
        },
        "id": "P_jZh9zj4zaN",
        "outputId": "73bb0aa5-6b0b-44ef-d07b-b8b4b6e90ea2"
      },
      "execution_count": 40,
      "outputs": [
        {
          "output_type": "stream",
          "name": "stdout",
          "text": [
            "The numbers [4, 5] doesn't belong to any group\n",
            "where 0 represents Red, 1 as white and 2 as blue\n"
          ]
        },
        {
          "output_type": "execute_result",
          "data": {
            "text/plain": [
              "[0, 0, 1, 1, 1, 2, 2, 2]"
            ]
          },
          "metadata": {},
          "execution_count": 40
        }
      ]
    },
    {
      "cell_type": "code",
      "source": [
        "def sortColors2(nums:list())-> list():\n",
        "    red, white, blue = 0, 0, len(nums)-1\n",
        "\n",
        "    while white <= blue:\n",
        "        if nums[white] == 0:\n",
        "            nums[red], nums[white] = nums[white], nums[red]\n",
        "            white += 1\n",
        "            red += 1\n",
        "        elif nums[white] == 1:\n",
        "            white += 1\n",
        "        else:\n",
        "            nums[white], nums[blue] = nums[blue], nums[white]\n",
        "            blue -= 1\n",
        "\n"
      ],
      "metadata": {
        "id": "7rcLxjA18Ttj"
      },
      "execution_count": 23,
      "outputs": []
    },
    {
      "cell_type": "code",
      "source": [
        "n =[1,2,0,2,1,0,4,2,1,5]\n",
        "o=sortColors2(n)\n",
        "o"
      ],
      "metadata": {
        "id": "yyY13mAp8V6E"
      },
      "execution_count": 25,
      "outputs": []
    }
  ]
}