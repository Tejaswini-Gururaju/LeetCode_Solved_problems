{
  "nbformat": 4,
  "nbformat_minor": 0,
  "metadata": {
    "colab": {
      "provenance": []
    },
    "kernelspec": {
      "name": "python3",
      "display_name": "Python 3"
    },
    "language_info": {
      "name": "python"
    }
  },
  "cells": [
    {
      "cell_type": "markdown",
      "source": [
        "Given an array of integers nums and an integer target, return indices of the two numbers such that they add up to target.\n",
        "\n",
        "You may assume that each input would have exactly one solution, and you may not use the same element twice.\n",
        "\n",
        "You can return the answer in any order.\n",
        "\n",
        "\n",
        "\n",
        "Example 1:\n",
        "\n",
        "Input: nums = [2,7,11,15], target = 9\n",
        "Output: [0,1]\n",
        "Explanation: Because nums[0] + nums[1] == 9, we return [0, 1]."
      ],
      "metadata": {
        "id": "RHeniismYNvn"
      }
    },
    {
      "cell_type": "code",
      "source": [
        "\n",
        "''' More optimal solution '''\n",
        "\n",
        "class Solution(object):\n",
        "    def twoSum(self, nums, target):\n",
        "        dic = {}\n",
        "        for i , n in enumerate(nums):\n",
        "            v = target - n\n",
        "            if v in dic:\n",
        "                return [dic[v],i]\n",
        "\n",
        "            dic[n] = i\n",
        "\n",
        "        return []\n",
        "\n",
        "# Brute force method :\n",
        "\n",
        "        # output = []\n",
        "        # for i in range(len(nums)-1):\n",
        "        #     for j in range(i+1,len(nums)):\n",
        "        #         if nums[i] + nums[j] == target:\n",
        "        #             output.append(i)\n",
        "        #             output.append(j)\n",
        "        #             return output\n",
        "\n"
      ],
      "metadata": {
        "id": "-KepdyzSYKkY"
      },
      "execution_count": null,
      "outputs": []
    }
  ]
}