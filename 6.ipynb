{
  "nbformat": 4,
  "nbformat_minor": 0,
  "metadata": {
    "colab": {
      "provenance": []
    },
    "kernelspec": {
      "name": "python3",
      "display_name": "Python 3"
    },
    "language_info": {
      "name": "python"
    }
  },
  "cells": [
    {
      "cell_type": "markdown",
      "source": [
        "Palindrome problem :\n",
        "\n",
        "Input: x = 121\n",
        "Output: true\n",
        "Explanation: 121 reads as 121 from left to right and from right to left."
      ],
      "metadata": {
        "id": "fKI9sOBumvNt"
      }
    },
    {
      "cell_type": "code",
      "source": [
        "class Solution(object):\n",
        "    def isPalindrome(self,x):\n",
        "        if x<0:\n",
        "            return False\n",
        "\n",
        "        inputNum = x\n",
        "        newNum = 0\n",
        "        while x>0:\n",
        "            newNum = newNum * 10 + x%10\n",
        "            x = x//10\n",
        "        return newNum == inputNum"
      ],
      "metadata": {
        "id": "LzCD1v-ymv94"
      },
      "execution_count": 15,
      "outputs": []
    },
    {
      "cell_type": "code",
      "source": [
        "x = 15651\n",
        "num = isPalindrome(x)\n",
        "num"
      ],
      "metadata": {
        "colab": {
          "base_uri": "https://localhost:8080/"
        },
        "id": "mjUaMeFrm_tC",
        "outputId": "62dc89fb-e01e-457b-de4c-a0ee6584ad8e"
      },
      "execution_count": 16,
      "outputs": [
        {
          "output_type": "execute_result",
          "data": {
            "text/plain": [
              "True"
            ]
          },
          "metadata": {},
          "execution_count": 16
        }
      ]
    }
  ]
}